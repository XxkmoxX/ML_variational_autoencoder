{
 "cells": [
  {
   "cell_type": "code",
   "execution_count": 4,
   "metadata": {},
   "outputs": [
    {
     "name": "stdout",
     "output_type": "stream",
     "text": [
      "/home/cpicighelli/projects/ML_variational_autoencoder\n"
     ]
    }
   ],
   "source": [
    "import numpy as np\n",
    "import matplotlib.pyplot as plt\n",
    "import os\n",
    "\n",
    "cwd = os.getcwd()\n",
    "ec_label1 = ['ICS', 'HCS']\n",
    "ec_label2 = ['ics', 'hcs']\n",
    "\n",
    "D = 2\n",
    "L =128\n",
    "lc = [4, 8]\n",
    "var = [0.5, 2]\n",
    "realizations = 128\n",
    "\n",
    "kmap_sample = 1\n",
    "\n",
    "v = 1\n",
    "cmap = 'plasma'\n",
    "\n",
    "print(cwd)\n"
   ]
  },
  {
   "cell_type": "code",
   "execution_count": 3,
   "metadata": {},
   "outputs": [
    {
     "name": "stdout",
     "output_type": "stream",
     "text": [
      "X shape:  (128, 128, 128, 1) \n",
      "Y shape:  (128, 1)\n"
     ]
    }
   ],
   "source": [
    "# Numpy file creation for VAE algorithm\n",
    "\n",
    "X = np.zeros((realizations, 128, 128, 1), dtype = np.float64)\n",
    "Y = np.zeros((realizations, 1), dtype = np.float64)\n",
    "print('X shape: ', X.shape, '\\n' 'Y shape: ', Y.shape)\n",
    "\n",
    "for ireal in range(realizations):\n",
    "    x = np.load(cwd + '/medios_refinados/' )\n",
    "\n",
    "'''\n",
    "primero itera con varianza: lc=4, var=0.5, lc=4, var=2, lc=8, var=0.5, lc=8, var=2\n",
    "'''"
   ]
  }
 ],
 "metadata": {
  "kernelspec": {
   "display_name": "ccd",
   "language": "python",
   "name": "python3"
  },
  "language_info": {
   "codemirror_mode": {
    "name": "ipython",
    "version": 3
   },
   "file_extension": ".py",
   "mimetype": "text/x-python",
   "name": "python",
   "nbconvert_exporter": "python",
   "pygments_lexer": "ipython3",
   "version": "3.12.3"
  }
 },
 "nbformat": 4,
 "nbformat_minor": 2
}
